{
 "cells": [
  {
   "cell_type": "markdown",
   "metadata": {},
   "source": [
    "# Пояснения к практике по деревьям решений\n",
    "\n",
    "Допустим, у нас есть следующее множество:\n",
    "\n",
    "X1 | X2| Y\n",
    "---|---|--\n",
    " 1 | 3 | 0\n",
    " 2 | 4 | 0\n",
    " 3 | 4 | 1\n",
    " 2 | 2 | 0\n",
    " 1 | 4 | 1\n",
    "\n",
    "Это матрица, в которой собрана информация по пяти объектам. Каждый объект имеет два измерения-признака: **X1** и **X2**, и отнесён к одному из двух классов - 0 или 1 (столбец **Y**).\n",
    "\n",
    "При построении деревьев решений это множество рекурсивно разбивается на подмножества до тех пор, пока в каждом листе не окажутся примеры только одного класса. В нашем случае - либо все нули, либо все единицы.\n",
    "\n",
    "Необходимо выбрать признак, по которому будем разбивать множество. У нас есть выбор - можем взять либо признак **X1**, либо **X2**. Чтобы сделать математически обоснованный выбор, воспользуемся энтропийным критерием. Нам нужно взять такой признак, при котором снимется наибольшая неопределённость (энтропия). А для этого нам нужно посчитать энтропию исходного множества."
   ]
  },
  {
   "cell_type": "markdown",
   "metadata": {},
   "source": [
    "## Расчёт энтропии множества"
   ]
  },
  {
   "cell_type": "markdown",
   "metadata": {},
   "source": [
    "Формула энтропии:\n",
    "\n",
    "$Info(T) = -\\sum_{i=1}^Np_{i}log_{2}(p_{i})$\n",
    "\n",
    "В этой формуле **T** - это исходное множество. В нашем случае это столбец **Y**, то есть значения `[0, 0, 1, 0, 1]`. **N** - это количество классов. У нас их два - ноль и единица. Количество классов можно найти одним из способов:"
   ]
  },
  {
   "cell_type": "code",
   "execution_count": 25,
   "metadata": {},
   "outputs": [
    {
     "data": {
      "text/plain": [
       "2"
      ]
     },
     "execution_count": 25,
     "metadata": {},
     "output_type": "execute_result"
    }
   ],
   "source": [
    "Y = np.array([0, 0, 1, 0, 1])\n",
    "N = len(np.unique(Y))  # 1 способ\n",
    "N = len(set(Y))        # 2 способ\n",
    "N"
   ]
  },
  {
   "cell_type": "markdown",
   "metadata": {},
   "source": [
    "Кроме того, нам нужно знать вероятность встретить каждый из классов в множестве. Для этого нужно просто поделить количество элементов данного класса на размер множества. Например, вероятность для класса \"0\" будет равна в данном примере $\\frac{3}{5}$, так как в **Y** ноль встречается 3 раза, а всего элементов 5. Вероятность для класса \"1\" будет равна $\\frac{2}{5}$. Вот пример кода:"
   ]
  },
  {
   "cell_type": "code",
   "execution_count": 30,
   "metadata": {},
   "outputs": [
    {
     "data": {
      "text/plain": [
       "[0.6, 0.4]"
      ]
     },
     "execution_count": 30,
     "metadata": {},
     "output_type": "execute_result"
    }
   ],
   "source": [
    "# мы можем выполнить Y == item потому, что Y - это np.array, а не просто list\n",
    "p = [sum(Y == item) / len(Y) for item in set(Y)]\n",
    "p"
   ]
  },
  {
   "cell_type": "markdown",
   "metadata": {},
   "source": [
    "Рассмотрим этот код детально. Для начала цикл. Он просто перебирает уникальные значения из **Y**. item на первой итерации  равен нулю, затем единице:"
   ]
  },
  {
   "cell_type": "code",
   "execution_count": 53,
   "metadata": {},
   "outputs": [
    {
     "data": {
      "text/plain": [
       "[0, 1]"
      ]
     },
     "execution_count": 53,
     "metadata": {},
     "output_type": "execute_result"
    }
   ],
   "source": [
    "[item for item in set(Y)]"
   ]
  },
  {
   "cell_type": "markdown",
   "metadata": {},
   "source": [
    "Размер множества можно вычислить через `len(Y)`:"
   ]
  },
  {
   "cell_type": "code",
   "execution_count": 54,
   "metadata": {},
   "outputs": [
    {
     "data": {
      "text/plain": [
       "5"
      ]
     },
     "execution_count": 54,
     "metadata": {},
     "output_type": "execute_result"
    }
   ],
   "source": [
    "len(Y)"
   ]
  },
  {
   "cell_type": "markdown",
   "metadata": {},
   "source": [
    "Посчитать количество элементов с данным значением (например, с нулём) можно так:"
   ]
  },
  {
   "cell_type": "code",
   "execution_count": 55,
   "metadata": {},
   "outputs": [
    {
     "data": {
      "text/plain": [
       "3"
      ]
     },
     "execution_count": 55,
     "metadata": {},
     "output_type": "execute_result"
    }
   ],
   "source": [
    "sum(Y == 0)"
   ]
  },
  {
   "cell_type": "markdown",
   "metadata": {},
   "source": [
    "Вероятность встретить нулевое значение:"
   ]
  },
  {
   "cell_type": "code",
   "execution_count": 56,
   "metadata": {},
   "outputs": [
    {
     "data": {
      "text/plain": [
       "0.6"
      ]
     },
     "execution_count": 56,
     "metadata": {},
     "output_type": "execute_result"
    }
   ],
   "source": [
    "sum(Y == 0) / len(Y)"
   ]
  },
  {
   "cell_type": "markdown",
   "metadata": {},
   "source": [
    "Осталось только посчитать итоговое значение энтропии:"
   ]
  },
  {
   "cell_type": "code",
   "execution_count": 33,
   "metadata": {},
   "outputs": [
    {
     "data": {
      "text/plain": [
       "0.9709505944546686"
      ]
     },
     "execution_count": 33,
     "metadata": {},
     "output_type": "execute_result"
    }
   ],
   "source": [
    "info = -sum([p[i] * np.log2(p[i]) for i in range(len(p))])\n",
    "info"
   ]
  },
  {
   "cell_type": "markdown",
   "metadata": {},
   "source": [
    "Можно обернуть всё это в функцию:"
   ]
  },
  {
   "cell_type": "code",
   "execution_count": 34,
   "metadata": {},
   "outputs": [],
   "source": [
    "def Info(T):\n",
    "    p = [sum(T == item) / len(T) for item in set(T)]\n",
    "    return -sum([p[i] * np.log2(p[i]) for i in range(len(p))])"
   ]
  },
  {
   "cell_type": "code",
   "execution_count": 35,
   "metadata": {},
   "outputs": [
    {
     "data": {
      "text/plain": [
       "0.9709505944546686"
      ]
     },
     "execution_count": 35,
     "metadata": {},
     "output_type": "execute_result"
    }
   ],
   "source": [
    "Info(Y)"
   ]
  },
  {
   "cell_type": "markdown",
   "metadata": {},
   "source": [
    "А если посчитать энтропию для множества, состоящего из одинаковых значений, то мы ожидаемо получим 0, ведь никакой неопределённости в таком множестве нет:"
   ]
  },
  {
   "cell_type": "code",
   "execution_count": 39,
   "metadata": {},
   "outputs": [
    {
     "data": {
      "text/plain": [
       "True"
      ]
     },
     "execution_count": 39,
     "metadata": {},
     "output_type": "execute_result"
    }
   ],
   "source": [
    "zeros = np.array([0, 0, 0, 0, 0])\n",
    "Info(zeros) == 0.0"
   ]
  },
  {
   "cell_type": "markdown",
   "metadata": {},
   "source": [
    "# Расчёт энтропии после разбиения"
   ]
  },
  {
   "cell_type": "markdown",
   "metadata": {},
   "source": [
    "Допустим, мы решили разбить наше исходное множество по признаку **X1**. Этот признак содержит значения `[1, 2, 3, 2, 1]`. Из них уникальные значения `[1, 2, 3]`. Таким образом, мы можем разбить исходное множество на 3 подмножества по признаку **X1**:\n",
    "\n",
    "Было:\n",
    "\n",
    "X1 | X2| Y\n",
    "---|---|--\n",
    " **1** | 3 | 0\n",
    " **2** | 4 | 0\n",
    " **3** | 4 | 1\n",
    " **2** | 2 | 0\n",
    " **1** | 4 | 1\n",
    "\n",
    "Стало:\n",
    "\n",
    "X1 | X2| Y\n",
    "---|---|--\n",
    " **1** | 3 | 0\n",
    " **1** | 4 | 1\n",
    " \n",
    " X1 | X2| Y\n",
    "---|---|--\n",
    " **2** | 4 | 0\n",
    " **2** | 2 | 0\n",
    " \n",
    " X1 | X2| Y\n",
    "---|---|--\n",
    " **3** | 4 | 1\n",
    "\n",
    "Для каждого из подмножеств мы можем вычислить энтропию. Используем для этого последний столбец - метку класса:"
   ]
  },
  {
   "cell_type": "code",
   "execution_count": 40,
   "metadata": {},
   "outputs": [],
   "source": [
    "dataset = np.array([\n",
    "    [1, 3, 0],\n",
    "    [2, 4, 0],\n",
    "    [3, 4, 1],\n",
    "    [2, 2, 0],\n",
    "    [1, 4, 1]])"
   ]
  },
  {
   "cell_type": "code",
   "execution_count": 42,
   "metadata": {},
   "outputs": [
    {
     "data": {
      "text/plain": [
       "array([1, 2, 3, 2, 1])"
      ]
     },
     "execution_count": 42,
     "metadata": {},
     "output_type": "execute_result"
    }
   ],
   "source": [
    "X1_values = dataset[:, 0]\n",
    "X1_values"
   ]
  },
  {
   "cell_type": "code",
   "execution_count": 57,
   "metadata": {},
   "outputs": [
    {
     "data": {
      "text/plain": [
       "array([0, 0, 1, 0, 1])"
      ]
     },
     "execution_count": 57,
     "metadata": {},
     "output_type": "execute_result"
    }
   ],
   "source": [
    "Y = dataset[:, -1]\n",
    "Y"
   ]
  },
  {
   "cell_type": "code",
   "execution_count": 49,
   "metadata": {},
   "outputs": [
    {
     "name": "stdout",
     "output_type": "stream",
     "text": [
      "Уникальное значение из столбца X1: 1\n",
      "Подмножество, соответствующие значению 1 из X1:\n",
      " [[1 3 0]\n",
      " [1 4 1]]\n",
      "Значения Y, соответствующие значению 1 из X1: [0 1]\n",
      "Соответствующая энтропия: 1.0\n",
      "\n",
      "Уникальное значение из столбца X1: 2\n",
      "Подмножество, соответствующие значению 2 из X1:\n",
      " [[2 4 0]\n",
      " [2 2 0]]\n",
      "Значения Y, соответствующие значению 2 из X1: [0 0]\n",
      "Соответствующая энтропия: -0.0\n",
      "\n",
      "Уникальное значение из столбца X1: 3\n",
      "Подмножество, соответствующие значению 3 из X1:\n",
      " [[3 4 1]]\n",
      "Значения Y, соответствующие значению 3 из X1: [1]\n",
      "Соответствующая энтропия: -0.0\n",
      "\n"
     ]
    }
   ],
   "source": [
    "for item in np.unique(X1_values):\n",
    "    print('Уникальное значение из столбца X1:', item)\n",
    "    \n",
    "    print('Подмножество, соответствующие значению %d из X1:\\n' % item, dataset[X1_values == item, :])\n",
    "    \n",
    "    T = Y[X1_values == item]\n",
    "    print('Значения Y, соответствующие значению %d из X1:' % item, T)\n",
    "    \n",
    "    print('Соответствующая энтропия:', Info(T))\n",
    "    \n",
    "    print()"
   ]
  },
  {
   "cell_type": "markdown",
   "metadata": {},
   "source": [
    "Кроме того, значения энтропии для подмножеств мы должны взвесить весовыми коэффициентами, которые рассчитываются просто как отношение размера подмножества к размеру исходного множества ($\\frac{2}{5}=0.4$, $\\frac{2}{5}=0.4$ и $\\frac{1}{5}=0.2$ соответственно):"
   ]
  },
  {
   "cell_type": "code",
   "execution_count": 50,
   "metadata": {},
   "outputs": [
    {
     "data": {
      "text/plain": [
       "[0.4, 0.4, 0.2]"
      ]
     },
     "execution_count": 50,
     "metadata": {},
     "output_type": "execute_result"
    }
   ],
   "source": [
    "coefs = [sum(X1_values == item) / len(X1_values) for item in np.unique(X1_values)]\n",
    "coefs"
   ]
  },
  {
   "cell_type": "markdown",
   "metadata": {},
   "source": [
    "Соберём всё вместе и посчитаем энтропию после разбиения на подмножества по признаку **X1**:"
   ]
  },
  {
   "cell_type": "code",
   "execution_count": 51,
   "metadata": {},
   "outputs": [
    {
     "data": {
      "text/plain": [
       "0.4"
      ]
     },
     "execution_count": 51,
     "metadata": {},
     "output_type": "execute_result"
    }
   ],
   "source": [
    "info_s = 0\n",
    "\n",
    "for item in np.unique(X1_values):\n",
    "    coef = sum(X1_values == item) / len(X1_values)\n",
    "    info_s += coef * Info(Y[X1_values == item])\n",
    "\n",
    "info_s"
   ]
  },
  {
   "cell_type": "markdown",
   "metadata": {},
   "source": [
    "И итоговый информационный выигрыш:"
   ]
  },
  {
   "cell_type": "code",
   "execution_count": 52,
   "metadata": {},
   "outputs": [
    {
     "data": {
      "text/plain": [
       "0.5709505944546686"
      ]
     },
     "execution_count": 52,
     "metadata": {},
     "output_type": "execute_result"
    }
   ],
   "source": [
    "gain = Info(Y) - info_s\n",
    "gain"
   ]
  },
  {
   "cell_type": "markdown",
   "metadata": {},
   "source": [
    "Можно обернуть всё в функцию:"
   ]
  },
  {
   "cell_type": "code",
   "execution_count": 58,
   "metadata": {},
   "outputs": [],
   "source": [
    "def gain(dataset, feat_index):\n",
    "    \n",
    "    Y = dataset[:, -1]\n",
    "    X_values = dataset[:, feat_index]\n",
    "    \n",
    "    info_s = 0\n",
    "    for item in np.unique(X_values):\n",
    "        coef = sum(X_values == item) / len(X_values)\n",
    "        info_s += coef * Info(Y[X_values == item])\n",
    "    \n",
    "    return Info(Y) - info_s"
   ]
  },
  {
   "cell_type": "code",
   "execution_count": 59,
   "metadata": {},
   "outputs": [
    {
     "data": {
      "text/plain": [
       "0.5709505944546686"
      ]
     },
     "execution_count": 59,
     "metadata": {},
     "output_type": "execute_result"
    }
   ],
   "source": [
    "gain(dataset, 0)  # выигрыш по признаку 1"
   ]
  },
  {
   "cell_type": "code",
   "execution_count": 60,
   "metadata": {},
   "outputs": [
    {
     "data": {
      "text/plain": [
       "0.4199730940219749"
      ]
     },
     "execution_count": 60,
     "metadata": {},
     "output_type": "execute_result"
    }
   ],
   "source": [
    "gain(dataset, 1)  # выигрыш по признаку 2"
   ]
  },
  {
   "cell_type": "markdown",
   "metadata": {},
   "source": [
    "Выигрыш от разбиения по первому признаку оказался выше, поэтому логично выбрать именно его."
   ]
  }
 ],
 "metadata": {
  "kernelspec": {
   "display_name": "Python 3",
   "language": "python",
   "name": "python3"
  },
  "language_info": {
   "codemirror_mode": {
    "name": "ipython",
    "version": 3
   },
   "file_extension": ".py",
   "mimetype": "text/x-python",
   "name": "python",
   "nbconvert_exporter": "python",
   "pygments_lexer": "ipython3",
   "version": "3.6.5"
  }
 },
 "nbformat": 4,
 "nbformat_minor": 2
}
